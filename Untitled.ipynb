{
 "cells": [
  {
   "cell_type": "markdown",
   "id": "introductory-madagascar",
   "metadata": {},
   "source": [
    "### Project 2021 Neural Networks\n",
    "##### Koutsourelakis Charilaos TP4591"
   ]
  },
  {
   "cell_type": "code",
   "execution_count": 1,
   "id": "immune-survival",
   "metadata": {},
   "outputs": [],
   "source": [
    "import pandas as pd\n",
    "import numpy as np\n",
    "import matplotlib.pyplot as plt\n",
    "import neurolab as nl\n",
    "import seaborn as sns\n",
    "\n",
    "from sklearn import datasets\n",
    "from pandas import *"
   ]
  },
  {
   "cell_type": "markdown",
   "id": "novel-south",
   "metadata": {},
   "source": [
    "# Step 1\n",
    "\n",
    "## Visualize the samples using a scatter plot (use the pandas and/or seaborn packages methods)\n"
   ]
  },
  {
   "cell_type": "code",
   "execution_count": 2,
   "id": "laughing-peripheral",
   "metadata": {
    "scrolled": true
   },
   "outputs": [
    {
     "data": {
      "text/html": [
       "<div>\n",
       "<style scoped>\n",
       "    .dataframe tbody tr th:only-of-type {\n",
       "        vertical-align: middle;\n",
       "    }\n",
       "\n",
       "    .dataframe tbody tr th {\n",
       "        vertical-align: top;\n",
       "    }\n",
       "\n",
       "    .dataframe thead th {\n",
       "        text-align: right;\n",
       "    }\n",
       "</style>\n",
       "<table border=\"1\" class=\"dataframe\">\n",
       "  <thead>\n",
       "    <tr style=\"text-align: right;\">\n",
       "      <th></th>\n",
       "      <th>RI</th>\n",
       "      <th>Na</th>\n",
       "      <th>Mg</th>\n",
       "      <th>Al</th>\n",
       "      <th>Si</th>\n",
       "      <th>K</th>\n",
       "      <th>Ca</th>\n",
       "      <th>Ba</th>\n",
       "      <th>Fe</th>\n",
       "      <th>Type</th>\n",
       "    </tr>\n",
       "  </thead>\n",
       "  <tbody>\n",
       "    <tr>\n",
       "      <th>count</th>\n",
       "      <td>214.000000</td>\n",
       "      <td>214.000000</td>\n",
       "      <td>214.000000</td>\n",
       "      <td>214.000000</td>\n",
       "      <td>214.000000</td>\n",
       "      <td>214.000000</td>\n",
       "      <td>214.000000</td>\n",
       "      <td>214.000000</td>\n",
       "      <td>214.000000</td>\n",
       "      <td>214.000000</td>\n",
       "    </tr>\n",
       "    <tr>\n",
       "      <th>mean</th>\n",
       "      <td>1.518365</td>\n",
       "      <td>13.407850</td>\n",
       "      <td>2.684533</td>\n",
       "      <td>1.444907</td>\n",
       "      <td>72.650935</td>\n",
       "      <td>0.497056</td>\n",
       "      <td>8.956963</td>\n",
       "      <td>0.175047</td>\n",
       "      <td>0.057009</td>\n",
       "      <td>2.780374</td>\n",
       "    </tr>\n",
       "    <tr>\n",
       "      <th>std</th>\n",
       "      <td>0.003037</td>\n",
       "      <td>0.816604</td>\n",
       "      <td>1.442408</td>\n",
       "      <td>0.499270</td>\n",
       "      <td>0.774546</td>\n",
       "      <td>0.652192</td>\n",
       "      <td>1.423153</td>\n",
       "      <td>0.497219</td>\n",
       "      <td>0.097439</td>\n",
       "      <td>2.103739</td>\n",
       "    </tr>\n",
       "    <tr>\n",
       "      <th>min</th>\n",
       "      <td>1.511150</td>\n",
       "      <td>10.730000</td>\n",
       "      <td>0.000000</td>\n",
       "      <td>0.290000</td>\n",
       "      <td>69.810000</td>\n",
       "      <td>0.000000</td>\n",
       "      <td>5.430000</td>\n",
       "      <td>0.000000</td>\n",
       "      <td>0.000000</td>\n",
       "      <td>1.000000</td>\n",
       "    </tr>\n",
       "    <tr>\n",
       "      <th>25%</th>\n",
       "      <td>1.516523</td>\n",
       "      <td>12.907500</td>\n",
       "      <td>2.115000</td>\n",
       "      <td>1.190000</td>\n",
       "      <td>72.280000</td>\n",
       "      <td>0.122500</td>\n",
       "      <td>8.240000</td>\n",
       "      <td>0.000000</td>\n",
       "      <td>0.000000</td>\n",
       "      <td>1.000000</td>\n",
       "    </tr>\n",
       "    <tr>\n",
       "      <th>50%</th>\n",
       "      <td>1.517680</td>\n",
       "      <td>13.300000</td>\n",
       "      <td>3.480000</td>\n",
       "      <td>1.360000</td>\n",
       "      <td>72.790000</td>\n",
       "      <td>0.555000</td>\n",
       "      <td>8.600000</td>\n",
       "      <td>0.000000</td>\n",
       "      <td>0.000000</td>\n",
       "      <td>2.000000</td>\n",
       "    </tr>\n",
       "    <tr>\n",
       "      <th>75%</th>\n",
       "      <td>1.519157</td>\n",
       "      <td>13.825000</td>\n",
       "      <td>3.600000</td>\n",
       "      <td>1.630000</td>\n",
       "      <td>73.087500</td>\n",
       "      <td>0.610000</td>\n",
       "      <td>9.172500</td>\n",
       "      <td>0.000000</td>\n",
       "      <td>0.100000</td>\n",
       "      <td>3.000000</td>\n",
       "    </tr>\n",
       "    <tr>\n",
       "      <th>max</th>\n",
       "      <td>1.533930</td>\n",
       "      <td>17.380000</td>\n",
       "      <td>4.490000</td>\n",
       "      <td>3.500000</td>\n",
       "      <td>75.410000</td>\n",
       "      <td>6.210000</td>\n",
       "      <td>16.190000</td>\n",
       "      <td>3.150000</td>\n",
       "      <td>0.510000</td>\n",
       "      <td>7.000000</td>\n",
       "    </tr>\n",
       "  </tbody>\n",
       "</table>\n",
       "</div>"
      ],
      "text/plain": [
       "               RI          Na          Mg          Al          Si           K  \\\n",
       "count  214.000000  214.000000  214.000000  214.000000  214.000000  214.000000   \n",
       "mean     1.518365   13.407850    2.684533    1.444907   72.650935    0.497056   \n",
       "std      0.003037    0.816604    1.442408    0.499270    0.774546    0.652192   \n",
       "min      1.511150   10.730000    0.000000    0.290000   69.810000    0.000000   \n",
       "25%      1.516523   12.907500    2.115000    1.190000   72.280000    0.122500   \n",
       "50%      1.517680   13.300000    3.480000    1.360000   72.790000    0.555000   \n",
       "75%      1.519157   13.825000    3.600000    1.630000   73.087500    0.610000   \n",
       "max      1.533930   17.380000    4.490000    3.500000   75.410000    6.210000   \n",
       "\n",
       "               Ca          Ba          Fe        Type  \n",
       "count  214.000000  214.000000  214.000000  214.000000  \n",
       "mean     8.956963    0.175047    0.057009    2.780374  \n",
       "std      1.423153    0.497219    0.097439    2.103739  \n",
       "min      5.430000    0.000000    0.000000    1.000000  \n",
       "25%      8.240000    0.000000    0.000000    1.000000  \n",
       "50%      8.600000    0.000000    0.000000    2.000000  \n",
       "75%      9.172500    0.000000    0.100000    3.000000  \n",
       "max     16.190000    3.150000    0.510000    7.000000  "
      ]
     },
     "execution_count": 2,
     "metadata": {},
     "output_type": "execute_result"
    }
   ],
   "source": [
    "df = pd.read_csv(\"glass.csv\")\n",
    "\n",
    "#df.head()\n",
    "\n",
    "df.describe()\n",
    "#The datasets consists of 214 columns (Instanses) and 10 lines (Attributes)."
   ]
  },
  {
   "cell_type": "code",
   "execution_count": 3,
   "id": "theoretical-penny",
   "metadata": {},
   "outputs": [
    {
     "data": {
      "image/png": "[encoded data removed]",
      "text/plain": [
       "<Figure size 432x288 with 1 Axes>"
      ]
     },
     "metadata": {
      "needs_background": "light"
     },
     "output_type": "display_data"
    }
   ],
   "source": [
    "#Used seaborn scatterplot\n",
    "\n",
    "#Used hue as a grouping variable that will produce points with different colors for better results\n",
    "\n",
    "sns.scatterplot(data=df, x=\"RI\", y=\"Si\", hue=\"Type\")\n",
    "plt.show();\n",
    "\n"
   ]
  },
  {
   "cell_type": "markdown",
   "id": "personal-mileage",
   "metadata": {},
   "source": [
    "## Step 2"
   ]
  },
  {
   "cell_type": "code",
   "execution_count": 4,
   "id": "continental-respondent",
   "metadata": {},
   "outputs": [
    {
     "data": {
      "text/plain": [
       "<AxesSubplot:xlabel='RI'>"
      ]
     },
     "execution_count": 4,
     "metadata": {},
     "output_type": "execute_result"
    },
    {
     "data": {
      "image/png": "[encoded data removed]",
      "text/plain": [
       "<Figure size 432x288 with 1 Axes>"
      ]
     },
     "metadata": {
      "needs_background": "light"
     },
     "output_type": "display_data"
    }
   ],
   "source": [
    "df = pd.read_csv(\"glass.csv\")\n",
    "sns.boxplot(x=df['RI'])\n",
    "\n",
    "#  Used boxplot from seaborn package to see the outliers from a random attribute (RI)\n",
    "#  It showed 14 outliers\n",
    "\n",
    "#  I also tested the boxplot for the K attribute and showed 6 outliers\n"
   ]
  },
  {
   "cell_type": "code",
   "execution_count": 5,
   "id": "latin-negotiation",
   "metadata": {},
   "outputs": [
    {
     "name": "stdout",
     "output_type": "stream",
     "text": [
      "[[0.87286765 0.28495326 1.25463857 ... 0.35287683 0.5864509  0.84827468]\n",
      " [0.24933347 0.59181718 0.63616803 ... 0.35287683 0.5864509  0.84827468]\n",
      " [0.72131806 0.14993314 0.60142249 ... 0.35287683 0.5864509  0.84827468]\n",
      " ...\n",
      " [0.75404635 1.16872135 1.86551055 ... 2.95320036 0.5864509  2.01047778]\n",
      " [0.61239854 1.19327046 1.86551055 ... 2.81208731 0.5864509  2.01047778]\n",
      " [0.41436305 1.00915211 1.86551055 ... 3.01367739 0.5864509  2.01047778]]\n"
     ]
    }
   ],
   "source": [
    "#I use Z-score function defined in scipy library to detect the outliers.\n",
    "#Generic, not specified on RI as above\n",
    "\n",
    "from scipy import stats\n",
    "import numpy as np\n",
    "z = np.abs(stats.zscore(df))\n",
    "print(z)"
   ]
  },
  {
   "cell_type": "markdown",
   "id": "excited-correction",
   "metadata": {},
   "source": [
    "# Step 3\n",
    "\n",
    "## Pre-process  your data by using MinMaxScaler  from scikit-learn. Create  a training set and  a test  set. Start with a split rate of 70%-30% for training and test set respectively.  "
   ]
  },
  {
   "cell_type": "code",
   "execution_count": 6,
   "id": "figured-bridge",
   "metadata": {},
   "outputs": [],
   "source": [
    "# Class Distribution: (out of 214 total instances)\n",
    "#    -- 163 Window glass (building windows and vehicle windows)\n",
    "#       -- 87 float processed  \n",
    "#          -- 70 building windows\n",
    "#          -- 17 vehicle windows\n",
    "#       -- 76 non-float processed\n",
    "#          -- 76 building windows\n",
    "#          -- 0 vehicle windows\n",
    "#    -- 51 Non-window glass\n",
    "#       -- 13 containers\n",
    "#       -- 9 tableware\n",
    "#      -- 29 headlamps\n",
    "        \n",
    "T = np.empty([214,7]) \n",
    "\n",
    "T[:,0]      = 0\n",
    "T[0:163,1]  = 0\n",
    "T[163:,1]    = 1\n",
    "\n",
    "T[0:87,2]   = 0\n",
    "T[87:163,2] = 1\n",
    "T[163:,2]    = 0\n",
    "\n",
    "T[0:76,3]   = 0\n",
    "T[76:163,3] = 1\n",
    "T[163:,3]    = 1\n",
    "\n",
    "T[0:13,4]  = 1\n",
    "T[13:51,4]  = 0\n",
    "T[51:,4]    = 0\n",
    "\n",
    "T[0:9,5]   = 1\n",
    "T[9:51,5] = 0\n",
    "T[51:,5]    = 1\n",
    "\n",
    "T[0:29,6]   = 1\n",
    "T[29:51,6] = 1\n",
    "T[51:,6]    = 1"
   ]
  },
  {
   "cell_type": "code",
   "execution_count": 7,
   "id": "billion-location",
   "metadata": {},
   "outputs": [],
   "source": [
    "from sklearn.model_selection import train_test_split\n",
    "\n",
    "X_train, X_test, y_train, y_test = train_test_split( df, T, test_size = 0.30,)"
   ]
  },
  {
   "cell_type": "code",
   "execution_count": 8,
   "id": "advance-cassette",
   "metadata": {},
   "outputs": [],
   "source": [
    "from sklearn import preprocessing\n",
    "min_max_scaler = preprocessing.MinMaxScaler()\n",
    "X_train = min_max_scaler.fit_transform(X_train)\n",
    "Y_test = min_max_scaler.fit_transform(X_test)"
   ]
  },
  {
   "cell_type": "markdown",
   "id": "precious-commerce",
   "metadata": {},
   "source": [
    "# Step 4\n",
    "\n",
    "## Create a neural network of your choice (number of hidden layers, neurons in each layer etc.) which accepts  as  an  input  the  features  of  each  training  example  (from  Step  1).  Use  the  following parameters: \n",
    "####                 - Learning rate: 0.3 \n",
    "####                 - Maximum number of epochs to train: 3000 \n",
    "####                - Performance goal: 1e-5 \n",
    "####                - Epochs between displays:100"
   ]
  },
  {
   "cell_type": "code",
   "execution_count": 9,
   "id": "wireless-infrastructure",
   "metadata": {
    "scrolled": false
   },
   "outputs": [
    {
     "name": "stderr",
     "output_type": "stream",
     "text": [
      "/home/harrkout/anaconda3/lib/python3.8/site-packages/neurolab/trans.py:107: RuntimeWarning: overflow encountered in exp\n",
      "  return 1 / (1 + np.exp(-x))\n"
     ]
    },
    {
     "name": "stdout",
     "output_type": "stream",
     "text": [
      "Epoch: 100; Error: 49.494352929226196;\n",
      "Epoch: 200; Error: 41.96963025156796;\n",
      "Epoch: 300; Error: 41.65754634307383;\n",
      "Epoch: 400; Error: 41.38816494493659;\n",
      "Epoch: 500; Error: 40.478418766985385;\n",
      "Epoch: 600; Error: 39.81560590622795;\n",
      "Epoch: 700; Error: 39.557903700070796;\n",
      "Epoch: 800; Error: 39.223093440310635;\n",
      "Epoch: 900; Error: 39.05596068953942;\n",
      "Epoch: 1000; Error: 38.959612823146685;\n",
      "Epoch: 1100; Error: 38.63149108408135;\n",
      "Epoch: 1200; Error: 38.05480226279494;\n",
      "Epoch: 1300; Error: 37.607388147060206;\n",
      "Epoch: 1400; Error: 37.07489531735703;\n",
      "Epoch: 1500; Error: 33.63581180691273;\n",
      "Epoch: 1600; Error: 33.47492810952983;\n",
      "Epoch: 1700; Error: 33.37961629989346;\n",
      "Epoch: 1800; Error: 33.24236209294713;\n",
      "Epoch: 1900; Error: 33.120721864299774;\n",
      "Epoch: 2000; Error: 33.04793273793533;\n",
      "Epoch: 2100; Error: 32.93351040471652;\n",
      "Epoch: 2200; Error: 32.79444222901802;\n",
      "Epoch: 2300; Error: 32.636228821352454;\n",
      "Epoch: 2400; Error: 32.45183411056799;\n",
      "Epoch: 2500; Error: 32.333804138918026;\n",
      "Epoch: 2600; Error: 32.21925876857695;\n",
      "Epoch: 2700; Error: 32.13879202152343;\n",
      "Epoch: 2800; Error: 32.050621570703555;\n",
      "Epoch: 2900; Error: 31.966354797261424;\n",
      "Epoch: 3000; Error: 31.896935976650795;\n",
      "The maximum number of train epochs is reached\n"
     ]
    },
    {
     "data": {
      "image/png": "[encoded data removed]",
      "text/plain": [
       "<Figure size 432x288 with 1 Axes>"
      ]
     },
     "metadata": {
      "needs_background": "light"
     },
     "output_type": "display_data"
    }
   ],
   "source": [
    "net = nl.net.newff(nl.tool.minmax(df), [30,7]) \n",
    "\n",
    "net.layers[-1].transf = nl.trans.LogSig()\n",
    "net.layers[0].transf = nl.trans.LogSig()\n",
    "net.layers[1].transf = nl.trans.LogSig()\n",
    "\n",
    "error = net.trainf = nl.train.train_rprop(net, X_train, y_train, epochs = 3000, show = 100, lr = 0.3, goal = 0.00001)\n",
    "\n",
    "plt.plot(error)\n",
    "plt.xlabel('Epoch number')\n",
    "plt.ylabel('Train Error')\n",
    "plt.grid()\n",
    "plt.show();"
   ]
  },
  {
   "cell_type": "code",
   "execution_count": 10,
   "id": "forward-taste",
   "metadata": {},
   "outputs": [
    {
     "data": {
      "text/plain": [
       "31.896935976650795"
      ]
     },
     "execution_count": 10,
     "metadata": {},
     "output_type": "execute_result"
    }
   ],
   "source": [
    "# Error from last epoch\n",
    "\n",
    "error[-1]\n"
   ]
  },
  {
   "cell_type": "code",
   "execution_count": 11,
   "id": "ethical-screening",
   "metadata": {},
   "outputs": [],
   "source": [
    "# Error from last epoch\n",
    "\n",
    "error[-1]\n",
    "\n",
    "# Network Simulation\n",
    "\n",
    "out = net.sim(X_test)\n",
    "out = np.around(out)\n",
    "\n",
    "# Network Accuracy\n",
    "\n",
    "correct=(out==y_test).all(axis=1)\n",
    "acc=(np.sum(correct)/len(out))*100"
   ]
  },
  {
   "cell_type": "code",
   "execution_count": 12,
   "id": "indian-rider",
   "metadata": {},
   "outputs": [],
   "source": [
    "# Network Accuracy\n",
    "\n",
    "correct=(out==y_test).all(axis=1)\n",
    "acc=(np.sum(correct)/len(out))*100"
   ]
  },
  {
   "cell_type": "code",
   "execution_count": 13,
   "id": "stopped-sheriff",
   "metadata": {},
   "outputs": [
    {
     "data": {
      "text/plain": [
       "21.53846153846154"
      ]
     },
     "execution_count": 13,
     "metadata": {},
     "output_type": "execute_result"
    }
   ],
   "source": [
    "acc"
   ]
  },
  {
   "cell_type": "code",
   "execution_count": 14,
   "id": "comic-litigation",
   "metadata": {},
   "outputs": [
    {
     "data": {
      "text/plain": [
       "False"
      ]
     },
     "execution_count": 14,
     "metadata": {},
     "output_type": "execute_result"
    }
   ],
   "source": [
    "np.array_equal(out,y_test)"
   ]
  },
  {
   "cell_type": "markdown",
   "id": "optional-event",
   "metadata": {},
   "source": [
    "# Step 5\n",
    "\n",
    "## Present  to  the  trained  neural  network  the  test  set  and  display  the  categorized  patterns  using  the matplotlib library. Compare and comment on your results in relation to the actual class. "
   ]
  },
  {
   "cell_type": "code",
   "execution_count": 15,
   "id": "retained-concentration",
   "metadata": {},
   "outputs": [
    {
     "data": {
      "image/png": "[encoded data removed]",
      "text/plain": [
       "<Figure size 432x288 with 2 Axes>"
      ]
     },
     "metadata": {
      "needs_background": "light"
     },
     "output_type": "display_data"
    }
   ],
   "source": [
    "plt.figure(1)\n",
    "plt.subplot(2,1,1)\n",
    "plt.plot(out,'ro')\n",
    "plt.title('out')\n",
    "plt.grid(True)\n",
    "        \n",
    "plt.subplot(2,1,2)\n",
    "plt.plot(y_test,'ro')\n",
    "plt.title('y_test')\n",
    "plt.grid(True)\n",
    "         \n",
    "plt.tight_layout()\n",
    "plt.show()"
   ]
  },
  {
   "cell_type": "markdown",
   "id": "brave-grenada",
   "metadata": {},
   "source": [
    "# Step 6\n",
    "\n",
    "## Optimize the neural network by adding or subtracting layers / neurons, by changing the number of epochs and record the results in a table for every change you have made. "
   ]
  },
  {
   "cell_type": "code",
   "execution_count": 16,
   "id": "protected-episode",
   "metadata": {},
   "outputs": [
    {
     "data": {
      "text/html": [
       "<div>\n",
       "<style scoped>\n",
       "    .dataframe tbody tr th:only-of-type {\n",
       "        vertical-align: middle;\n",
       "    }\n",
       "\n",
       "    .dataframe tbody tr th {\n",
       "        vertical-align: top;\n",
       "    }\n",
       "\n",
       "    .dataframe thead th {\n",
       "        text-align: right;\n",
       "    }\n",
       "</style>\n",
       "<table border=\"1\" class=\"dataframe\">\n",
       "  <thead>\n",
       "    <tr style=\"text-align: right;\">\n",
       "      <th></th>\n",
       "      <th>Epochs</th>\n",
       "      <th>Neurons_of_hidden_layer</th>\n",
       "      <th>Output_Neurons</th>\n",
       "      <th>Error_from_last_epoch</th>\n",
       "      <th>Accuracy</th>\n",
       "    </tr>\n",
       "  </thead>\n",
       "  <tbody>\n",
       "    <tr>\n",
       "      <th>0</th>\n",
       "      <td>3000</td>\n",
       "      <td>3</td>\n",
       "      <td>7</td>\n",
       "      <td>61.107383</td>\n",
       "      <td>3.076923</td>\n",
       "    </tr>\n",
       "    <tr>\n",
       "      <th>1</th>\n",
       "      <td>1100</td>\n",
       "      <td>10</td>\n",
       "      <td>7</td>\n",
       "      <td>29.015639</td>\n",
       "      <td>16.923077</td>\n",
       "    </tr>\n",
       "    <tr>\n",
       "      <th>2</th>\n",
       "      <td>2500</td>\n",
       "      <td>21</td>\n",
       "      <td>7</td>\n",
       "      <td>36.169077</td>\n",
       "      <td>16.923077</td>\n",
       "    </tr>\n",
       "    <tr>\n",
       "      <th>3</th>\n",
       "      <td>500</td>\n",
       "      <td>30</td>\n",
       "      <td>7</td>\n",
       "      <td>50.641819</td>\n",
       "      <td>21.686084</td>\n",
       "    </tr>\n",
       "    <tr>\n",
       "      <th>4</th>\n",
       "      <td>1400</td>\n",
       "      <td>50</td>\n",
       "      <td>7</td>\n",
       "      <td>13.148390</td>\n",
       "      <td>9.230769</td>\n",
       "    </tr>\n",
       "    <tr>\n",
       "      <th>5</th>\n",
       "      <td>3000</td>\n",
       "      <td>100</td>\n",
       "      <td>7</td>\n",
       "      <td>4.899278</td>\n",
       "      <td>3.076923</td>\n",
       "    </tr>\n",
       "  </tbody>\n",
       "</table>\n",
       "</div>"
      ],
      "text/plain": [
       "   Epochs  Neurons_of_hidden_layer  Output_Neurons  Error_from_last_epoch  \\\n",
       "0    3000                        3               7              61.107383   \n",
       "1    1100                       10               7              29.015639   \n",
       "2    2500                       21               7              36.169077   \n",
       "3     500                       30               7              50.641819   \n",
       "4    1400                       50               7              13.148390   \n",
       "5    3000                      100               7               4.899278   \n",
       "\n",
       "    Accuracy  \n",
       "0   3.076923  \n",
       "1  16.923077  \n",
       "2  16.923077  \n",
       "3  21.686084  \n",
       "4   9.230769  \n",
       "5   3.076923  "
      ]
     },
     "execution_count": 16,
     "metadata": {},
     "output_type": "execute_result"
    }
   ],
   "source": [
    "# Created a table for my results\n",
    "\n",
    "\n",
    "data = [[3000, 3, 7, 61.10738255033557,  3.076923076923077],\n",
    "        [1100, 10,7, 29.015638600532892, 16.923076923076923],\n",
    "        [2500, 21, 7, 36.16907723550281, 16.923076923076923],\n",
    "        [500, 30, 7, 50.641818636606175, 21.686083896610874],\n",
    "        [1400, 50, 7, 13.14839027133521, 9.230769230769232],\n",
    "        [3000, 100, 7, 4.899277681620157, 3.076923076923077]]\n",
    "\n",
    "pd.DataFrame(data, columns=[\"Epochs\", \"Neurons_of_hidden_layer\", \"Output_Neurons\", \"Error_from_last_epoch\" ,\"Accuracy\"])"
   ]
  },
  {
   "cell_type": "markdown",
   "id": "eight-calendar",
   "metadata": {},
   "source": [
    "### Best results were those for 30 Neurons and 500 Epochs"
   ]
  },
  {
   "cell_type": "markdown",
   "id": "collaborative-plain",
   "metadata": {},
   "source": [
    "# Step 7\n",
    "\n",
    "## After completing all the steps, repeat the procedure (for the architecture that gave the best results) with split rates (for dataset): 50%-50%, 60%-40%, 80%-20%, 90%-10% and list the results in a table.\n",
    "###### What do you conclude?  "
   ]
  },
  {
   "cell_type": "code",
   "execution_count": 17,
   "id": "settled-istanbul",
   "metadata": {},
   "outputs": [
    {
     "data": {
      "text/html": [
       "<div>\n",
       "<style scoped>\n",
       "    .dataframe tbody tr th:only-of-type {\n",
       "        vertical-align: middle;\n",
       "    }\n",
       "\n",
       "    .dataframe tbody tr th {\n",
       "        vertical-align: top;\n",
       "    }\n",
       "\n",
       "    .dataframe thead th {\n",
       "        text-align: right;\n",
       "    }\n",
       "</style>\n",
       "<table border=\"1\" class=\"dataframe\">\n",
       "  <thead>\n",
       "    <tr style=\"text-align: right;\">\n",
       "      <th></th>\n",
       "      <th>Split Rate</th>\n",
       "      <th>Epochs</th>\n",
       "      <th>Neurons_of_hidden_layer</th>\n",
       "      <th>Output_Neurons</th>\n",
       "      <th>Error_from_last_epoch</th>\n",
       "      <th>Accuracy</th>\n",
       "    </tr>\n",
       "  </thead>\n",
       "  <tbody>\n",
       "    <tr>\n",
       "      <th>0</th>\n",
       "      <td>50%-50%</td>\n",
       "      <td>500</td>\n",
       "      <td>30</td>\n",
       "      <td>7</td>\n",
       "      <td>26.137946</td>\n",
       "      <td>24.299065</td>\n",
       "    </tr>\n",
       "    <tr>\n",
       "      <th>1</th>\n",
       "      <td>60%-40%</td>\n",
       "      <td>500</td>\n",
       "      <td>30</td>\n",
       "      <td>7</td>\n",
       "      <td>20.135638</td>\n",
       "      <td>22.093023</td>\n",
       "    </tr>\n",
       "    <tr>\n",
       "      <th>2</th>\n",
       "      <td>80%-20%</td>\n",
       "      <td>500</td>\n",
       "      <td>30</td>\n",
       "      <td>7</td>\n",
       "      <td>74.029240</td>\n",
       "      <td>9.302326</td>\n",
       "    </tr>\n",
       "    <tr>\n",
       "      <th>3</th>\n",
       "      <td>90%-10%</td>\n",
       "      <td>500</td>\n",
       "      <td>30</td>\n",
       "      <td>7</td>\n",
       "      <td>79.807571</td>\n",
       "      <td>31.818182</td>\n",
       "    </tr>\n",
       "  </tbody>\n",
       "</table>\n",
       "</div>"
      ],
      "text/plain": [
       "  Split Rate  Epochs  Neurons_of_hidden_layer  Output_Neurons  \\\n",
       "0    50%-50%     500                       30               7   \n",
       "1    60%-40%     500                       30               7   \n",
       "2    80%-20%     500                       30               7   \n",
       "3    90%-10%     500                       30               7   \n",
       "\n",
       "   Error_from_last_epoch   Accuracy  \n",
       "0              26.137946  24.299065  \n",
       "1              20.135638  22.093023  \n",
       "2              74.029240   9.302326  \n",
       "3              79.807571  31.818182  "
      ]
     },
     "execution_count": 17,
     "metadata": {},
     "output_type": "execute_result"
    }
   ],
   "source": [
    "data = [[\"50%-50%\", 500, 30, 7, 26.137946240129722, 24.299065420560748],\n",
    "        [\"60%-40%\", 500, 30, 7, 20.13563761490111, 22.093023255813954],\n",
    "        [\"80%-20%\", 500, 30, 7, 74.02923976608187, 9.30232558139535],\n",
    "        [\"90%-10%\", 500, 30, 7, 79.8075713961075, 31.818181818181817]]\n",
    "\n",
    "pd.DataFrame(data, columns=[\"Split Rate\", \"Epochs\", \"Neurons_of_hidden_layer\", \"Output_Neurons\", \"Error_from_last_epoch\" ,\"Accuracy\"])\n"
   ]
  },
  {
   "cell_type": "markdown",
   "id": "missing-province",
   "metadata": {},
   "source": [
    "# Step 8\n",
    "\n",
    "## Create  a  Kohonen  network  and  implement  clustering  to  the  data  (unsupervised  learning).  Use elbow method and silhouette score to determine the number of cluster Apply everything you have learned from the laboratory about Kohonen networks."
   ]
  },
  {
   "cell_type": "code",
   "execution_count": 18,
   "id": "considerable-irish",
   "metadata": {},
   "outputs": [
    {
     "name": "stdout",
     "output_type": "stream",
     "text": [
      "Epoch: 200; Error: 146.35815310007484;\n",
      "Epoch: 400; Error: 146.35839235432195;\n",
      "Epoch: 600; Error: 146.35839237484967;\n",
      "Epoch: 800; Error: 146.35839237485044;\n",
      "Epoch: 1000; Error: 146.35839237485044;\n",
      "The maximum number of train epochs is reached\n"
     ]
    }
   ],
   "source": [
    "from sklearn.cluster import KMeans\n",
    "\n",
    "from yellowbrick.cluster import KElbowVisualizer\n",
    "\n",
    "\n",
    "\n",
    "min_max_scaler= preprocessing.MinMaxScaler()\n",
    "\n",
    "df = min_max_scaler.fit_transform(df)\n",
    "\n",
    "net = nl.net.newc(nl.tool.minmax(df), 7)\n",
    "#we choose 3 because we know that there are 7 categories\n",
    "\n",
    "error =net.trainf=nl.train.train_wta(net, df, epochs =1000, show =200)"
   ]
  },
  {
   "cell_type": "code",
   "execution_count": 19,
   "id": "iraqi-single",
   "metadata": {},
   "outputs": [
    {
     "data": {
      "image/png": "[encoded data removed]",
      "text/plain": [
       "<Figure size 576x396 with 1 Axes>"
      ]
     },
     "metadata": {},
     "output_type": "display_data"
    },
    {
     "data": {
      "text/plain": [
       "<AxesSubplot:title={'center':'Distortion Score Elbow for KMeans Clustering'}, xlabel='k', ylabel='distortion score'>"
      ]
     },
     "execution_count": 19,
     "metadata": {},
     "output_type": "execute_result"
    }
   ],
   "source": [
    "\n",
    "model = KMeans()\n",
    "visualizer = KElbowVisualizer(model, k=(1,10), timings=False ,locate_elbow=False)\n",
    "visualizer.fit(df)       \n",
    "visualizer.show()        "
   ]
  },
  {
   "cell_type": "code",
   "execution_count": 20,
   "id": "arbitrary-disaster",
   "metadata": {},
   "outputs": [
    {
     "data": {
      "image/png": "[encoded data removed]",
      "text/plain": [
       "<Figure size 576x396 with 1 Axes>"
      ]
     },
     "metadata": {},
     "output_type": "display_data"
    }
   ],
   "source": [
    "from sklearn.metrics import silhouette_score\n",
    "\n",
    "sse_ =[]\n",
    "for k in range(2, 8):\n",
    "        kmeans =KMeans(n_clusters=k).fit(df)\n",
    "        sse_.append([k, silhouette_score(df, kmeans.labels_)])\n",
    "\n",
    "plt.plot(pd.DataFrame(sse_)[0], pd.DataFrame(sse_)[1]);"
   ]
  },
  {
   "cell_type": "code",
   "execution_count": 22,
   "id": "confident-thirty",
   "metadata": {},
   "outputs": [
    {
     "data": {
      "image/png": "[encoded data removed]",
      "text/plain": [
       "<Figure size 576x396 with 2 Axes>"
      ]
     },
     "metadata": {},
     "output_type": "display_data"
    }
   ],
   "source": [
    "#Plot resuts:\n",
    "\n",
    "import pylab as pl\n",
    "\n",
    "plt.title('Classification Problem')\n",
    "plt.subplot(2,1,1)\n",
    "plt.plot(error)\n",
    "plt.xlabel('Epoch number')\n",
    "plt.ylabel('error (default MAE)')\n",
    "w = net.layers[0].np['w']\n",
    "\n",
    "plt.subplot(2,1,2)\n",
    "plt.plot(df[:,2], df[:,3], '.', \\\n",
    "    w[:,2], w[:,3], 'p')\n",
    "         \n",
    "plt.legend(['train samples', 'real centers'])\n",
    "plt.show();"
   ]
  }
 ],
 "metadata": {
  "kernelspec": {
   "display_name": "Python 3",
   "language": "python",
   "name": "python3"
  },
  "language_info": {
   "codemirror_mode": {
    "name": "ipython",
    "version": 3
   },
   "file_extension": ".py",
   "mimetype": "text/x-python",
   "name": "python",
   "nbconvert_exporter": "python",
   "pygments_lexer": "ipython3",
   "version": "3.8.8"
  }
 },
 "nbformat": 4,
 "nbformat_minor": 5
}
